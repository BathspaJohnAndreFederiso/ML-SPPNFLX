{
 "cells": [
  {
   "cell_type": "code",
   "execution_count": 1,
   "id": "844c7c53",
   "metadata": {},
   "outputs": [],
   "source": [
    "#Importing the Libraries\n",
    "import pandas as pd\n",
    "import numpy as np\n",
    "import matplotlib.pyplot as plt\n",
    "import matplotlib\n",
    "import matplotlib.dates as mandates\n",
    "\n",
    "from sklearn.preprocessing import MinMaxScaler\n",
    "from sklearn.model_selection import TimeSeriesSplit\n",
    "from sklearn.metrics import mean_squared_error, r2_score\n",
    "from sklearn import metrics\n",
    "from sklearn import linear_model\n",
    "\n",
    "from keras.layers import LSTM, Dense, Dropout\n",
    "from keras.models import Sequential\n"
   ]
  },
  {
   "cell_type": "code",
   "execution_count": 2,
   "id": "6213c4a4",
   "metadata": {},
   "outputs": [
    {
     "data": {
      "text/html": [
       "<div>\n",
       "<style scoped>\n",
       "    .dataframe tbody tr th:only-of-type {\n",
       "        vertical-align: middle;\n",
       "    }\n",
       "\n",
       "    .dataframe tbody tr th {\n",
       "        vertical-align: top;\n",
       "    }\n",
       "\n",
       "    .dataframe thead th {\n",
       "        text-align: right;\n",
       "    }\n",
       "</style>\n",
       "<table border=\"1\" class=\"dataframe\">\n",
       "  <thead>\n",
       "    <tr style=\"text-align: right;\">\n",
       "      <th></th>\n",
       "      <th>Date</th>\n",
       "      <th>Open</th>\n",
       "      <th>High</th>\n",
       "      <th>Low</th>\n",
       "      <th>Close</th>\n",
       "      <th>Adj Close</th>\n",
       "      <th>Volume</th>\n",
       "    </tr>\n",
       "  </thead>\n",
       "  <tbody>\n",
       "    <tr>\n",
       "      <th>0</th>\n",
       "      <td>2018-02-05</td>\n",
       "      <td>262.000000</td>\n",
       "      <td>267.899994</td>\n",
       "      <td>250.029999</td>\n",
       "      <td>254.259995</td>\n",
       "      <td>254.259995</td>\n",
       "      <td>11896100</td>\n",
       "    </tr>\n",
       "    <tr>\n",
       "      <th>1</th>\n",
       "      <td>2018-02-06</td>\n",
       "      <td>247.699997</td>\n",
       "      <td>266.700012</td>\n",
       "      <td>245.000000</td>\n",
       "      <td>265.720001</td>\n",
       "      <td>265.720001</td>\n",
       "      <td>12595800</td>\n",
       "    </tr>\n",
       "    <tr>\n",
       "      <th>2</th>\n",
       "      <td>2018-02-07</td>\n",
       "      <td>266.579987</td>\n",
       "      <td>272.450012</td>\n",
       "      <td>264.329987</td>\n",
       "      <td>264.559998</td>\n",
       "      <td>264.559998</td>\n",
       "      <td>8981500</td>\n",
       "    </tr>\n",
       "    <tr>\n",
       "      <th>3</th>\n",
       "      <td>2018-02-08</td>\n",
       "      <td>267.079987</td>\n",
       "      <td>267.619995</td>\n",
       "      <td>250.000000</td>\n",
       "      <td>250.100006</td>\n",
       "      <td>250.100006</td>\n",
       "      <td>9306700</td>\n",
       "    </tr>\n",
       "    <tr>\n",
       "      <th>4</th>\n",
       "      <td>2018-02-09</td>\n",
       "      <td>253.850006</td>\n",
       "      <td>255.800003</td>\n",
       "      <td>236.110001</td>\n",
       "      <td>249.470001</td>\n",
       "      <td>249.470001</td>\n",
       "      <td>16906900</td>\n",
       "    </tr>\n",
       "  </tbody>\n",
       "</table>\n",
       "</div>"
      ],
      "text/plain": [
       "         Date        Open        High         Low       Close   Adj Close  \\\n",
       "0  2018-02-05  262.000000  267.899994  250.029999  254.259995  254.259995   \n",
       "1  2018-02-06  247.699997  266.700012  245.000000  265.720001  265.720001   \n",
       "2  2018-02-07  266.579987  272.450012  264.329987  264.559998  264.559998   \n",
       "3  2018-02-08  267.079987  267.619995  250.000000  250.100006  250.100006   \n",
       "4  2018-02-09  253.850006  255.800003  236.110001  249.470001  249.470001   \n",
       "\n",
       "     Volume  \n",
       "0  11896100  \n",
       "1  12595800  \n",
       "2   8981500  \n",
       "3   9306700  \n",
       "4  16906900  "
      ]
     },
     "execution_count": 2,
     "metadata": {},
     "output_type": "execute_result"
    }
   ],
   "source": [
    "#nflxdata = pd.read_csv(\"NFLX.csv\", index_col = 'Date', parse_dates = True, infer_datetime_format = True)\n",
    "nflxdata = pd.read_csv(\"NFLX.csv\")\n",
    "nflxdata.head()"
   ]
  },
  {
   "cell_type": "code",
   "execution_count": 3,
   "id": "65d95efe",
   "metadata": {},
   "outputs": [
    {
     "data": {
      "text/html": [
       "<div>\n",
       "<style scoped>\n",
       "    .dataframe tbody tr th:only-of-type {\n",
       "        vertical-align: middle;\n",
       "    }\n",
       "\n",
       "    .dataframe tbody tr th {\n",
       "        vertical-align: top;\n",
       "    }\n",
       "\n",
       "    .dataframe thead th {\n",
       "        text-align: right;\n",
       "    }\n",
       "</style>\n",
       "<table border=\"1\" class=\"dataframe\">\n",
       "  <thead>\n",
       "    <tr style=\"text-align: right;\">\n",
       "      <th></th>\n",
       "      <th>Date</th>\n",
       "      <th>Open</th>\n",
       "      <th>High</th>\n",
       "      <th>Low</th>\n",
       "      <th>Close</th>\n",
       "      <th>Adj Close</th>\n",
       "      <th>Volume</th>\n",
       "    </tr>\n",
       "  </thead>\n",
       "  <tbody>\n",
       "    <tr>\n",
       "      <th>1004</th>\n",
       "      <td>2022-01-31</td>\n",
       "      <td>401.970001</td>\n",
       "      <td>427.700012</td>\n",
       "      <td>398.200012</td>\n",
       "      <td>427.140015</td>\n",
       "      <td>427.140015</td>\n",
       "      <td>20047500</td>\n",
       "    </tr>\n",
       "    <tr>\n",
       "      <th>1005</th>\n",
       "      <td>2022-02-01</td>\n",
       "      <td>432.959991</td>\n",
       "      <td>458.480011</td>\n",
       "      <td>425.540009</td>\n",
       "      <td>457.130005</td>\n",
       "      <td>457.130005</td>\n",
       "      <td>22542300</td>\n",
       "    </tr>\n",
       "    <tr>\n",
       "      <th>1006</th>\n",
       "      <td>2022-02-02</td>\n",
       "      <td>448.250000</td>\n",
       "      <td>451.980011</td>\n",
       "      <td>426.480011</td>\n",
       "      <td>429.480011</td>\n",
       "      <td>429.480011</td>\n",
       "      <td>14346000</td>\n",
       "    </tr>\n",
       "    <tr>\n",
       "      <th>1007</th>\n",
       "      <td>2022-02-03</td>\n",
       "      <td>421.440002</td>\n",
       "      <td>429.260010</td>\n",
       "      <td>404.279999</td>\n",
       "      <td>405.600006</td>\n",
       "      <td>405.600006</td>\n",
       "      <td>9905200</td>\n",
       "    </tr>\n",
       "    <tr>\n",
       "      <th>1008</th>\n",
       "      <td>2022-02-04</td>\n",
       "      <td>407.309998</td>\n",
       "      <td>412.769989</td>\n",
       "      <td>396.640015</td>\n",
       "      <td>410.170013</td>\n",
       "      <td>410.170013</td>\n",
       "      <td>7782400</td>\n",
       "    </tr>\n",
       "  </tbody>\n",
       "</table>\n",
       "</div>"
      ],
      "text/plain": [
       "            Date        Open        High         Low       Close   Adj Close  \\\n",
       "1004  2022-01-31  401.970001  427.700012  398.200012  427.140015  427.140015   \n",
       "1005  2022-02-01  432.959991  458.480011  425.540009  457.130005  457.130005   \n",
       "1006  2022-02-02  448.250000  451.980011  426.480011  429.480011  429.480011   \n",
       "1007  2022-02-03  421.440002  429.260010  404.279999  405.600006  405.600006   \n",
       "1008  2022-02-04  407.309998  412.769989  396.640015  410.170013  410.170013   \n",
       "\n",
       "        Volume  \n",
       "1004  20047500  \n",
       "1005  22542300  \n",
       "1006  14346000  \n",
       "1007   9905200  \n",
       "1008   7782400  "
      ]
     },
     "execution_count": 3,
     "metadata": {},
     "output_type": "execute_result"
    }
   ],
   "source": [
    "nflxdata.tail()"
   ]
  },
  {
   "cell_type": "code",
   "execution_count": 4,
   "id": "3564f780",
   "metadata": {},
   "outputs": [
    {
     "data": {
      "text/plain": [
       "(1009, 7)"
      ]
     },
     "execution_count": 4,
     "metadata": {},
     "output_type": "execute_result"
    }
   ],
   "source": [
    "nflxdata.shape"
   ]
  },
  {
   "cell_type": "code",
   "execution_count": 5,
   "id": "6aeb9094",
   "metadata": {},
   "outputs": [
    {
     "data": {
      "text/plain": [
       "<AxesSubplot:>"
      ]
     },
     "execution_count": 5,
     "metadata": {},
     "output_type": "execute_result"
    },
    {
     "data": {
      "image/png": "[encoded data removed]",
      "text/plain": [
       "<Figure size 432x288 with 1 Axes>"
      ]
     },
     "metadata": {
      "needs_background": "light"
     },
     "output_type": "display_data"
    }
   ],
   "source": [
    "nflxdata['Adj Close'].plot()\n",
    "# Plot the adj close "
   ]
  },
  {
   "cell_type": "code",
   "execution_count": 6,
   "id": "cddd023a",
   "metadata": {},
   "outputs": [],
   "source": [
    "output_var = pd.DataFrame(nflxdata['Adj Close']) \n",
    "# set target variable, which will be used as the value that will be predicted by the LSTM model, then outputted"
   ]
  },
  {
   "cell_type": "code",
   "execution_count": 7,
   "id": "5b42a1b0",
   "metadata": {},
   "outputs": [],
   "source": [
    "features = ['Open', 'High', 'Low', 'Volume']\n",
    "# independent variables to the target variable above"
   ]
  },
  {
   "cell_type": "code",
   "execution_count": 8,
   "id": "e17affb9",
   "metadata": {},
   "outputs": [
    {
     "data": {
      "text/html": [
       "<div>\n",
       "<style scoped>\n",
       "    .dataframe tbody tr th:only-of-type {\n",
       "        vertical-align: middle;\n",
       "    }\n",
       "\n",
       "    .dataframe tbody tr th {\n",
       "        vertical-align: top;\n",
       "    }\n",
       "\n",
       "    .dataframe thead th {\n",
       "        text-align: right;\n",
       "    }\n",
       "</style>\n",
       "<table border=\"1\" class=\"dataframe\">\n",
       "  <thead>\n",
       "    <tr style=\"text-align: right;\">\n",
       "      <th></th>\n",
       "      <th>Open</th>\n",
       "      <th>High</th>\n",
       "      <th>Low</th>\n",
       "      <th>Volume</th>\n",
       "    </tr>\n",
       "  </thead>\n",
       "  <tbody>\n",
       "    <tr>\n",
       "      <th>0</th>\n",
       "      <td>0.061253</td>\n",
       "      <td>0.038304</td>\n",
       "      <td>0.041331</td>\n",
       "      <td>0.186150</td>\n",
       "    </tr>\n",
       "    <tr>\n",
       "      <th>1</th>\n",
       "      <td>0.030059</td>\n",
       "      <td>0.035640</td>\n",
       "      <td>0.030273</td>\n",
       "      <td>0.198264</td>\n",
       "    </tr>\n",
       "    <tr>\n",
       "      <th>2</th>\n",
       "      <td>0.071243</td>\n",
       "      <td>0.048408</td>\n",
       "      <td>0.072770</td>\n",
       "      <td>0.135690</td>\n",
       "    </tr>\n",
       "    <tr>\n",
       "      <th>3</th>\n",
       "      <td>0.072334</td>\n",
       "      <td>0.037683</td>\n",
       "      <td>0.041265</td>\n",
       "      <td>0.141320</td>\n",
       "    </tr>\n",
       "    <tr>\n",
       "      <th>4</th>\n",
       "      <td>0.043474</td>\n",
       "      <td>0.011436</td>\n",
       "      <td>0.010729</td>\n",
       "      <td>0.272902</td>\n",
       "    </tr>\n",
       "  </tbody>\n",
       "</table>\n",
       "</div>"
      ],
      "text/plain": [
       "       Open      High       Low    Volume\n",
       "0  0.061253  0.038304  0.041331  0.186150\n",
       "1  0.030059  0.035640  0.030273  0.198264\n",
       "2  0.071243  0.048408  0.072770  0.135690\n",
       "3  0.072334  0.037683  0.041265  0.141320\n",
       "4  0.043474  0.011436  0.010729  0.272902"
      ]
     },
     "execution_count": 8,
     "metadata": {},
     "output_type": "execute_result"
    }
   ],
   "source": [
    "#Scaling the csv values down to cut down on memory consumption \n",
    "scaler = MinMaxScaler()\n",
    "feature_tf = scaler.fit_transform(nflxdata[features])\n",
    "feature_tf = pd.DataFrame(columns = features, data = feature_tf, index = nflxdata.index)\n",
    "feature_tf.head()"
   ]
  },
  {
   "cell_type": "code",
   "execution_count": 9,
   "id": "b5fce6a5",
   "metadata": {},
   "outputs": [],
   "source": [
    "#Splits the csv data into sets for training the model (90% of the data) and testing the model (10% of the data)\n",
    "timesplit = TimeSeriesSplit(n_splits=10) \n",
    "for train_index, test_index in timesplit.split(feature_tf):\n",
    "        X_train, X_test = feature_tf[:len(train_index)], feature_tf[len(train_index): (len(train_index)+len(test_index))]\n",
    "        y_train, y_test = output_var[:len(train_index)].values.ravel(), output_var[len(train_index): (len(train_index)+len(test_index))].values.ravel()"
   ]
  },
  {
   "cell_type": "code",
   "execution_count": 10,
   "id": "0e1acd6f",
   "metadata": {},
   "outputs": [],
   "source": [
    "# processing the data for the LSTM\n",
    "trainX =np.array(X_train)\n",
    "testX =np.array(X_test)\n",
    "X_train = trainX.reshape(X_train.shape[0], 1, X_train.shape[1])\n",
    "X_test = testX.reshape(X_test.shape[0], 1, X_test.shape[1])"
   ]
  },
  {
   "cell_type": "code",
   "execution_count": 11,
   "id": "747b6008",
   "metadata": {},
   "outputs": [
    {
     "data": {
      "text/plain": [
       "(918, 1, 4)"
      ]
     },
     "execution_count": 11,
     "metadata": {},
     "output_type": "execute_result"
    }
   ],
   "source": [
    "X_train.shape"
   ]
  },
  {
   "cell_type": "code",
   "execution_count": 12,
   "id": "c88c2705",
   "metadata": {},
   "outputs": [
    {
     "data": {
      "text/plain": [
       "(91, 1, 4)"
      ]
     },
     "execution_count": 12,
     "metadata": {},
     "output_type": "execute_result"
    }
   ],
   "source": [
    "X_test.shape # displays the shape of X_train and X_test"
   ]
  },
  {
   "cell_type": "code",
   "execution_count": 13,
   "id": "f1255083",
   "metadata": {},
   "outputs": [],
   "source": [
    "#Building the LSTM Model\n",
    "lstm = Sequential()\n",
    "lstm.add(LSTM(32, input_shape=(1, trainX.shape[1]), activation='relu', return_sequences=False))\n",
    "lstm.add(Dense(1)) \n",
    "lstm.compile(loss='mean_absolute_error', optimizer='adam')\n"
   ]
  },
  {
   "cell_type": "code",
   "execution_count": null,
   "id": "533c580b",
   "metadata": {},
   "outputs": [
    {
     "name": "stdout",
     "output_type": "stream",
     "text": [
      "Epoch 1/150\n",
      "115/115 [==============================] - 3s 3ms/step - loss: 401.3327\n",
      "Epoch 2/150\n",
      "115/115 [==============================] - 0s 2ms/step - loss: 400.2215\n",
      "Epoch 3/150\n",
      "115/115 [==============================] - 0s 2ms/step - loss: 397.2758\n",
      "Epoch 4/150\n",
      "115/115 [==============================] - 0s 2ms/step - loss: 391.8222\n",
      "Epoch 5/150\n",
      "115/115 [==============================] - 0s 2ms/step - loss: 383.8812\n",
      "Epoch 6/150\n",
      "115/115 [==============================] - 0s 2ms/step - loss: 373.7598\n",
      "Epoch 7/150\n",
      "115/115 [==============================] - 0s 3ms/step - loss: 361.7946\n",
      "Epoch 8/150\n",
      "115/115 [==============================] - 0s 3ms/step - loss: 348.2455\n",
      "Epoch 9/150\n",
      "115/115 [==============================] - 0s 3ms/step - loss: 333.2479\n",
      "Epoch 10/150\n",
      "115/115 [==============================] - 0s 2ms/step - loss: 316.9795\n",
      "Epoch 11/150\n",
      "115/115 [==============================] - 0s 3ms/step - loss: 299.4914\n",
      "Epoch 12/150\n",
      "115/115 [==============================] - 0s 3ms/step - loss: 280.8650\n",
      "Epoch 13/150\n",
      "115/115 [==============================] - 0s 3ms/step - loss: 261.1322\n",
      "Epoch 14/150\n",
      "115/115 [==============================] - 0s 3ms/step - loss: 240.3376\n",
      "Epoch 15/150\n",
      "115/115 [==============================] - 0s 2ms/step - loss: 218.5307\n",
      "Epoch 16/150\n",
      "115/115 [==============================] - 0s 3ms/step - loss: 195.7288\n",
      "Epoch 17/150\n",
      "115/115 [==============================] - 0s 2ms/step - loss: 171.9516\n",
      "Epoch 18/150\n",
      "115/115 [==============================] - 0s 2ms/step - loss: 147.2603\n",
      "Epoch 19/150\n",
      "115/115 [==============================] - 0s 2ms/step - loss: 121.6666\n",
      "Epoch 20/150\n",
      "115/115 [==============================] - 0s 2ms/step - loss: 95.2450\n",
      "Epoch 21/150\n",
      "115/115 [==============================] - 0s 2ms/step - loss: 68.1807\n",
      "Epoch 22/150\n",
      "115/115 [==============================] - 0s 2ms/step - loss: 41.2382\n",
      "Epoch 23/150\n",
      "115/115 [==============================] - 0s 2ms/step - loss: 20.8372\n",
      "Epoch 24/150\n",
      "115/115 [==============================] - 0s 2ms/step - loss: 16.2077\n",
      "Epoch 25/150\n",
      "115/115 [==============================] - 0s 2ms/step - loss: 15.5001\n",
      "Epoch 26/150\n",
      "115/115 [==============================] - 0s 2ms/step - loss: 14.9058\n",
      "Epoch 27/150\n",
      "115/115 [==============================] - 0s 2ms/step - loss: 14.3462\n",
      "Epoch 28/150\n",
      "115/115 [==============================] - 0s 2ms/step - loss: 13.8147\n",
      "Epoch 29/150\n",
      "115/115 [==============================] - 0s 2ms/step - loss: 13.3446\n",
      "Epoch 30/150\n",
      "115/115 [==============================] - 0s 2ms/step - loss: 12.8766\n",
      "Epoch 31/150\n",
      "115/115 [==============================] - 0s 2ms/step - loss: 12.4444\n",
      "Epoch 32/150\n",
      "115/115 [==============================] - 0s 2ms/step - loss: 12.0535\n",
      "Epoch 33/150\n",
      "115/115 [==============================] - 0s 2ms/step - loss: 11.6934\n",
      "Epoch 34/150\n",
      "115/115 [==============================] - 0s 2ms/step - loss: 11.4045\n",
      "Epoch 35/150\n",
      "115/115 [==============================] - 0s 2ms/step - loss: 11.1090\n",
      "Epoch 36/150\n",
      "115/115 [==============================] - 0s 2ms/step - loss: 10.8483\n",
      "Epoch 37/150\n",
      "115/115 [==============================] - 0s 2ms/step - loss: 10.6182\n",
      "Epoch 38/150\n",
      "115/115 [==============================] - 0s 2ms/step - loss: 10.3775\n",
      "Epoch 39/150\n",
      "115/115 [==============================] - 0s 2ms/step - loss: 10.1832\n",
      "Epoch 40/150\n",
      "115/115 [==============================] - 0s 2ms/step - loss: 9.9689\n",
      "Epoch 41/150\n",
      "115/115 [==============================] - 0s 2ms/step - loss: 9.7890\n",
      "Epoch 42/150\n",
      "115/115 [==============================] - 0s 2ms/step - loss: 9.5961\n",
      "Epoch 43/150\n",
      "115/115 [==============================] - 0s 2ms/step - loss: 9.4411\n",
      "Epoch 44/150\n",
      "115/115 [==============================] - 0s 2ms/step - loss: 9.2566\n",
      "Epoch 45/150\n",
      "115/115 [==============================] - 0s 2ms/step - loss: 9.0894\n",
      "Epoch 46/150\n",
      "115/115 [==============================] - 0s 2ms/step - loss: 8.9357\n",
      "Epoch 47/150\n",
      "115/115 [==============================] - 0s 2ms/step - loss: 8.7676\n",
      "Epoch 48/150\n",
      "115/115 [==============================] - 0s 2ms/step - loss: 8.6098\n",
      "Epoch 49/150\n",
      "115/115 [==============================] - 0s 2ms/step - loss: 8.4526\n",
      "Epoch 50/150\n",
      "115/115 [==============================] - 0s 2ms/step - loss: 8.3170\n",
      "Epoch 51/150\n",
      "115/115 [==============================] - 0s 2ms/step - loss: 8.1413\n",
      "Epoch 52/150\n",
      "115/115 [==============================] - 0s 2ms/step - loss: 7.9946\n",
      "Epoch 53/150\n",
      "115/115 [==============================] - 0s 2ms/step - loss: 7.8506\n",
      "Epoch 54/150\n",
      "115/115 [==============================] - 0s 2ms/step - loss: 7.7202\n",
      "Epoch 55/150\n",
      "115/115 [==============================] - 0s 2ms/step - loss: 7.5841\n",
      "Epoch 56/150\n",
      "115/115 [==============================] - 0s 2ms/step - loss: 7.4437\n",
      "Epoch 57/150\n",
      "115/115 [==============================] - 0s 2ms/step - loss: 7.3035\n",
      "Epoch 58/150\n",
      "115/115 [==============================] - 0s 2ms/step - loss: 7.1608\n",
      "Epoch 59/150\n",
      "115/115 [==============================] - 0s 2ms/step - loss: 7.0564\n",
      "Epoch 60/150\n",
      "115/115 [==============================] - 0s 2ms/step - loss: 6.9041\n",
      "Epoch 61/150\n",
      "115/115 [==============================] - 0s 2ms/step - loss: 6.7893\n",
      "Epoch 62/150\n",
      "115/115 [==============================] - 0s 2ms/step - loss: 6.6575\n",
      "Epoch 63/150\n",
      "115/115 [==============================] - 0s 2ms/step - loss: 6.5386\n",
      "Epoch 64/150\n",
      "115/115 [==============================] - 0s 2ms/step - loss: 6.4263\n",
      "Epoch 65/150\n",
      "115/115 [==============================] - 0s 2ms/step - loss: 6.2885\n",
      "Epoch 66/150\n",
      "115/115 [==============================] - 0s 2ms/step - loss: 6.1920\n",
      "Epoch 67/150\n",
      "115/115 [==============================] - 0s 2ms/step - loss: 6.0718\n",
      "Epoch 68/150\n",
      "115/115 [==============================] - 0s 2ms/step - loss: 5.9780\n",
      "Epoch 69/150\n",
      "115/115 [==============================] - 0s 2ms/step - loss: 5.8570\n",
      "Epoch 70/150\n",
      "115/115 [==============================] - 0s 2ms/step - loss: 5.7560\n",
      "Epoch 71/150\n",
      "115/115 [==============================] - 0s 2ms/step - loss: 5.6699\n",
      "Epoch 72/150\n",
      "115/115 [==============================] - 0s 2ms/step - loss: 5.5800\n",
      "Epoch 73/150\n",
      "115/115 [==============================] - 0s 2ms/step - loss: 5.4900\n",
      "Epoch 74/150\n",
      "115/115 [==============================] - 0s 2ms/step - loss: 5.3974\n",
      "Epoch 75/150\n",
      "115/115 [==============================] - 0s 2ms/step - loss: 5.3329\n",
      "Epoch 76/150\n",
      "115/115 [==============================] - 0s 2ms/step - loss: 5.2280\n",
      "Epoch 77/150\n",
      "115/115 [==============================] - 0s 2ms/step - loss: 5.1809\n",
      "Epoch 78/150\n",
      "115/115 [==============================] - 0s 2ms/step - loss: 5.0978\n",
      "Epoch 79/150\n",
      "115/115 [==============================] - 0s 2ms/step - loss: 5.0570\n",
      "Epoch 80/150\n",
      "115/115 [==============================] - 0s 2ms/step - loss: 4.9963\n",
      "Epoch 81/150\n",
      "115/115 [==============================] - 0s 2ms/step - loss: 4.9163\n",
      "Epoch 82/150\n",
      "115/115 [==============================] - 0s 2ms/step - loss: 4.8546\n",
      "Epoch 83/150\n",
      "115/115 [==============================] - 0s 2ms/step - loss: 4.8175\n",
      "Epoch 84/150\n",
      "115/115 [==============================] - 0s 2ms/step - loss: 4.7551\n",
      "Epoch 85/150\n",
      "115/115 [==============================] - 0s 2ms/step - loss: 4.7050\n",
      "Epoch 86/150\n",
      "115/115 [==============================] - 0s 2ms/step - loss: 4.6604\n",
      "Epoch 87/150\n",
      "115/115 [==============================] - 0s 2ms/step - loss: 4.6114\n",
      "Epoch 88/150\n",
      "115/115 [==============================] - 0s 2ms/step - loss: 4.5866\n",
      "Epoch 89/150\n",
      "115/115 [==============================] - 0s 2ms/step - loss: 4.5329\n",
      "Epoch 90/150\n",
      "115/115 [==============================] - 0s 2ms/step - loss: 4.5258\n",
      "Epoch 91/150\n",
      "115/115 [==============================] - 0s 2ms/step - loss: 4.4665\n",
      "Epoch 92/150\n",
      "115/115 [==============================] - 0s 2ms/step - loss: 4.4395\n",
      "Epoch 93/150\n",
      "115/115 [==============================] - 0s 2ms/step - loss: 4.4193\n",
      "Epoch 94/150\n",
      "115/115 [==============================] - 0s 2ms/step - loss: 4.4010\n",
      "Epoch 95/150\n",
      "115/115 [==============================] - 0s 2ms/step - loss: 4.3866\n",
      "Epoch 96/150\n",
      "115/115 [==============================] - 0s 2ms/step - loss: 4.3852\n",
      "Epoch 97/150\n",
      "115/115 [==============================] - 0s 2ms/step - loss: 4.3500\n",
      "Epoch 98/150\n",
      "115/115 [==============================] - 0s 2ms/step - loss: 4.3627\n",
      "Epoch 99/150\n"
     ]
    },
    {
     "name": "stdout",
     "output_type": "stream",
     "text": [
      "115/115 [==============================] - 0s 2ms/step - loss: 4.3437\n",
      "Epoch 100/150\n",
      "115/115 [==============================] - 0s 2ms/step - loss: 4.3214\n",
      "Epoch 101/150\n",
      "115/115 [==============================] - 0s 2ms/step - loss: 4.3044\n",
      "Epoch 102/150\n",
      "115/115 [==============================] - 0s 2ms/step - loss: 4.2985\n",
      "Epoch 103/150\n",
      "115/115 [==============================] - 0s 2ms/step - loss: 4.2828\n",
      "Epoch 104/150\n",
      "115/115 [==============================] - 0s 2ms/step - loss: 4.2794\n",
      "Epoch 105/150\n",
      "115/115 [==============================] - 0s 2ms/step - loss: 4.2820\n",
      "Epoch 106/150\n",
      "115/115 [==============================] - 0s 2ms/step - loss: 4.2751\n",
      "Epoch 107/150\n",
      "115/115 [==============================] - 0s 2ms/step - loss: 4.2520\n",
      "Epoch 108/150\n",
      "115/115 [==============================] - 0s 2ms/step - loss: 4.2798\n",
      "Epoch 109/150\n",
      "115/115 [==============================] - 0s 2ms/step - loss: 4.2588\n",
      "Epoch 110/150\n",
      "  1/115 [..............................] - ETA: 0s - loss: 5.3192"
     ]
    }
   ],
   "source": [
    "model = lstm.fit(X_train, y_train, epochs = 150, batch_size = 8, verbose = 1)\n",
    "# training the model on 150 epochs"
   ]
  },
  {
   "cell_type": "code",
   "execution_count": null,
   "id": "b0af6102",
   "metadata": {},
   "outputs": [],
   "source": [
    "#LSTM Prediction\n",
    "y_pred = lstm.predict(X_test)"
   ]
  },
  {
   "cell_type": "code",
   "execution_count": null,
   "id": "a33b424b",
   "metadata": {},
   "outputs": [],
   "source": [
    "\n",
    "MAE = metrics.mean_absolute_error(y_test, y_pred) # put the MAE of the model's product into the eponymous variable"
   ]
  },
  {
   "cell_type": "code",
   "execution_count": null,
   "id": "07255a33",
   "metadata": {},
   "outputs": [],
   "source": [
    "MAE #display the MAE"
   ]
  },
  {
   "cell_type": "code",
   "execution_count": null,
   "id": "92a66485",
   "metadata": {},
   "outputs": [],
   "source": [
    "# Comparing the LSTM prediction and the actual value of the Adjusted for Close price via plot\n",
    "plt.plot(y_test, label='True Value')\n",
    "plt.plot(y_pred, label='LSTM Value')\n",
    "plt.title(\"LSTM and the Actual Value\")\n",
    "plt.xlabel('Time Scale')\n",
    "plt.ylabel('Dollars Scaled')\n",
    "plt.legend()\n",
    "plt.show()"
   ]
  },
  {
   "cell_type": "code",
   "execution_count": null,
   "id": "964825f7",
   "metadata": {},
   "outputs": [],
   "source": [
    "# the basic LSTM model is not accurate (but very close) as to the predicting the hard values of stock prices most of the time\n",
    "# but is able to follow downwards and upwards trends"
   ]
  }
 ],
 "metadata": {
  "kernelspec": {
   "display_name": "Python 3 (ipykernel)",
   "language": "python",
   "name": "python3"
  },
  "language_info": {
   "codemirror_mode": {
    "name": "ipython",
    "version": 3
   },
   "file_extension": ".py",
   "mimetype": "text/x-python",
   "name": "python",
   "nbconvert_exporter": "python",
   "pygments_lexer": "ipython3",
   "version": "3.9.12"
  }
 },
 "nbformat": 4,
 "nbformat_minor": 5
}
